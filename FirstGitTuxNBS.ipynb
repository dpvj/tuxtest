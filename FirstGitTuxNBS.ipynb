{
 "cells": [
  {
   "cell_type": "markdown",
   "id": "bf3406a3-9211-459a-ab56-e0cb969b8f98",
   "metadata": {
    "tags": []
   },
   "source": [
    "### Markdown"
   ]
  },
  {
   "cell_type": "markdown",
   "id": "6fb3afc3-cd0c-4e1e-b501-8fb2bfcb48c5",
   "metadata": {},
   "source": [
    "here is how i calculate '1+1' :"
   ]
  },
  {
   "cell_type": "code",
   "execution_count": 3,
   "id": "ef03f9ab-3c17-4759-92a9-650d139ac9f0",
   "metadata": {},
   "outputs": [
    {
     "data": {
      "text/plain": [
       "2"
      ]
     },
     "execution_count": 3,
     "metadata": {},
     "output_type": "execute_result"
    }
   ],
   "source": [
    "1+1"
   ]
  },
  {
   "cell_type": "code",
   "execution_count": 2,
   "id": "4b432a5e-c922-47e7-a8b5-e6bd1c37d348",
   "metadata": {},
   "outputs": [],
   "source": [
    "import numpy as np"
   ]
  },
  {
   "cell_type": "markdown",
   "id": "a5953b09-2ff8-4da2-91a8-c427dc4ca092",
   "metadata": {},
   "source": [
    "here is how i calculate sin"
   ]
  },
  {
   "cell_type": "code",
   "execution_count": 6,
   "id": "db912fa3-447b-4347-ae2a-d8aaaeba1528",
   "metadata": {},
   "outputs": [
    {
     "data": {
      "text/plain": [
       "0.8414709848078965"
      ]
     },
     "execution_count": 6,
     "metadata": {},
     "output_type": "execute_result"
    }
   ],
   "source": [
    "np.sin(1)"
   ]
  }
 ],
 "metadata": {
  "kernelspec": {
   "display_name": "Python 3 (ipykernel)",
   "language": "python",
   "name": "python3"
  },
  "language_info": {
   "codemirror_mode": {
    "name": "ipython",
    "version": 3
   },
   "file_extension": ".py",
   "mimetype": "text/x-python",
   "name": "python",
   "nbconvert_exporter": "python",
   "pygments_lexer": "ipython3",
   "version": "3.10.8"
  }
 },
 "nbformat": 4,
 "nbformat_minor": 5
}
